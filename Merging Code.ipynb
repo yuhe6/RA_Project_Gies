{
 "cells": [
  {
   "cell_type": "code",
   "execution_count": 7,
   "metadata": {},
   "outputs": [],
   "source": [
    "import pandas as pd\n",
    "\n",
    "df0 = pd.read_csv('2018_0025_result_1216.csv')\n",
    "df1 = pd.read_csv('900个-2017-2016.csv')\n",
    "df2 = pd.read_csv('no_result.csv')"
   ]
  },
  {
   "cell_type": "code",
   "execution_count": null,
   "metadata": {},
   "outputs": [],
   "source": []
  },
  {
   "cell_type": "code",
   "execution_count": 8,
   "metadata": {},
   "outputs": [],
   "source": [
    "df_merged1 = df0.merge(df1, on = 'ID', how = 'left')"
   ]
  },
  {
   "cell_type": "code",
   "execution_count": 9,
   "metadata": {},
   "outputs": [],
   "source": [
    "import numpy as np\n",
    "df_merged1['2017 Value_z'] = np.where(df_merged1['2017 Value_y'].isna(), \n",
    "                                   df_merged1['2017 Value_x'], df_merged1['2017 Value_y'])\n",
    "df_merged1['2016 Value_z'] = np.where(df_merged1['2016 Value_y'].isna(), \n",
    "                                   df_merged1['2016 Value_x'], df_merged1['2016 Value_y'])\n",
    "df_merged1['2015 Value_z'] = np.where(df_merged1['2015 Value_y'].isna(), \n",
    "                                   df_merged1['2015 Value_x'], df_merged1['2015 Value_y'])\n",
    "df_merged1['2017 Quant_z'] = np.where(df_merged1['2017 Quant_y'].isna(), \n",
    "                                   df_merged1['2017 Quant_x'], df_merged1['2017 Quant_y'])\n",
    "df_merged1['2016 Quant_z'] = np.where(df_merged1['2016 Quant_y'].isna(), \n",
    "                                   df_merged1['2016 Quant_x'], df_merged1['2016 Quant_y'])\n",
    "df_merged1['2015 Quant_z'] = np.where(df_merged1['2015 Quant_y'].isna(), \n",
    "                                   df_merged1['2015 Quant_x'], df_merged1['2015 Quant_y'])"
   ]
  },
  {
   "cell_type": "code",
   "execution_count": 10,
   "metadata": {},
   "outputs": [],
   "source": [
    "df_merged2 = df_merged1.merge(df2, on = 'ID', how = 'left')\n",
    "df_merged2.to_csv('pro.csv')"
   ]
  },
  {
   "cell_type": "code",
   "execution_count": 11,
   "metadata": {},
   "outputs": [],
   "source": [
    "df_merged2['2017 Value'] = np.where(df_merged2['2017 Value_n'].isna(), \n",
    "                                   df_merged2['2017 Value_z'], df_merged2['2017 Value_n'])\n",
    "df_merged2['2016 Value'] = np.where(df_merged2['2016 Value_n'].isna(), \n",
    "                                   df_merged2['2016 Value_z'], df_merged2['2016 Value_n'])\n",
    "df_merged2['2015 Value'] = np.where(df_merged2['2015 Value_n'].isna(), \n",
    "                                   df_merged2['2015 Value_z'], df_merged2['2015 Value_n'])\n",
    "df_merged2['2017 Quant'] = np.where(df_merged2['2017 Quant_n'].isna(), \n",
    "                                   df_merged2['2017 Quant_z'], df_merged2['2017 Quant_n'])\n",
    "df_merged2['2016 Quant'] = np.where(df_merged2['2016 Quant_n'].isna(), \n",
    "                                   df_merged2['2016 Quant_z'], df_merged2['2016 Quant_n'])\n",
    "df_merged2['2015 Quant'] = np.where(df_merged2['2015 Quant_n'].isna(), \n",
    "                                   df_merged2['2015 Quant_z'], df_merged2['2015 Quant_n'])"
   ]
  },
  {
   "cell_type": "code",
   "execution_count": 12,
   "metadata": {},
   "outputs": [],
   "source": [
    "df_merged2.to_csv('final.csv')"
   ]
  },
  {
   "cell_type": "code",
   "execution_count": null,
   "metadata": {},
   "outputs": [],
   "source": []
  }
 ],
 "metadata": {
  "kernelspec": {
   "display_name": "Python 3",
   "language": "python",
   "name": "python3"
  },
  "language_info": {
   "codemirror_mode": {
    "name": "ipython",
    "version": 3
   },
   "file_extension": ".py",
   "mimetype": "text/x-python",
   "name": "python",
   "nbconvert_exporter": "python",
   "pygments_lexer": "ipython3",
   "version": "3.7.4"
  }
 },
 "nbformat": 4,
 "nbformat_minor": 2
}
